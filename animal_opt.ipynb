{
 "cells": [
  {
   "cell_type": "code",
   "execution_count": 1,
   "id": "suited-effect",
   "metadata": {},
   "outputs": [],
   "source": [
    "import pandas as pd, platypus, csv, numpy, matplotlib, pulp\n",
    "from pulp import *"
   ]
  },
  {
   "cell_type": "code",
   "execution_count": 2,
   "id": "korean-lending",
   "metadata": {},
   "outputs": [],
   "source": [
    "file = \"C:/Users/robwd/Desktop/ucl/Final project/Paramaterisation/meat_simple1.csv\""
   ]
  },
  {
   "cell_type": "code",
   "execution_count": 3,
   "id": "expected-doctor",
   "metadata": {},
   "outputs": [],
   "source": [
    "data = pd.read_csv(file)"
   ]
  },
  {
   "cell_type": "code",
   "execution_count": 4,
   "id": "liberal-hundred",
   "metadata": {},
   "outputs": [],
   "source": [
    "#print(data)"
   ]
  },
  {
   "cell_type": "code",
   "execution_count": 5,
   "id": "elegant-inspiration",
   "metadata": {},
   "outputs": [],
   "source": [
    "land_uses = list(data['Unnamed: 0'])\n",
    "carbo = dict(zip(land_uses, data['Carbohydrate ']))\n",
    "cost = dict(zip(land_uses, data['Total']))\n",
    "VitA = dict(zip(land_uses, data['Vitamin A (g)']))\n",
    "VitD = dict(zip(land_uses, data['Vitamin D (g)']))\n",
    "Calcium = dict(zip(land_uses, data['Calcium']))\n",
    "VitK = dict(zip(land_uses, data['Vitamin K (g)']))\n",
    "VitC = dict(zip(land_uses, data['Vitamin C (g/g)']))\n",
    "Thiam = dict(zip(land_uses, data['Thiamine ']))\n",
    "Ribo = dict(zip(land_uses, data['Riboflavin ']))\n",
    "Niac = dict(zip(land_uses, data['Niacin ']))\n",
    "VitB6 = dict(zip(land_uses, data['Vitamin B6 ']))\n",
    "Panto = dict(zip(land_uses, data['Pantothenate ']))\n",
    "Biotin = dict(zip(land_uses, data['Biotin ']))\n",
    "Selen = dict(zip(land_uses, data['Selenium ']))\n",
    "Magnes = dict(zip(land_uses, data['Magnesium']))\n",
    "Zinc = dict(zip(land_uses, data['Zinc ']))\n",
    "Iron = dict(zip(land_uses, data['Iron ']))\n",
    "VitB12 = dict(zip(land_uses, data['Vitamin B12 ']))\n",
    "Folate = dict(zip(land_uses, data['Folic acid ']))\n",
    "Iodine = dict(zip(land_uses, data['Iodine ']))\n",
    "Prot = dict(zip(land_uses, data['Protein']))\n",
    "Fat = dict(zip(land_uses, data['Fat ']))\n",
    "\n",
    "land_vars = LpVariable.dicts(\"Land_use\", land_uses, lowBound = 0, cat = 'Continuous')"
   ]
  },
  {
   "cell_type": "code",
   "execution_count": 6,
   "id": "casual-submission",
   "metadata": {},
   "outputs": [],
   "source": [
    "total_carb = LpProblem(\"land_optimisation\", LpMaximize)"
   ]
  },
  {
   "cell_type": "code",
   "execution_count": 7,
   "id": "cleared-narrow",
   "metadata": {},
   "outputs": [],
   "source": [
    "total_carb += lpSum([carbo[i] * land_vars[i] for i in land_vars])"
   ]
  },
  {
   "cell_type": "code",
   "execution_count": 8,
   "id": "seeing-rugby",
   "metadata": {},
   "outputs": [],
   "source": [
    "total_carb += lpSum([carbo[i] * land_vars[i] for i in land_vars])<= 5.0097e+12\n",
    "total_carb += lpSum([cost[i]*land_vars[i] for i in land_vars]) <= 218721510067\n",
    "#total_carb += lpSum([VitA[i]*land_vars[i]for i in land_vars]) >= 1.343837e+07\n",
    "#total_carb += lpSum([VitD[i]*land_vars[i]for i in land_vars]) >= 1.875182e+05\n",
    "#total_carb += lpSum([Calcium[i]*land_vars[i]for i in land_vars]) >= 2.570267e+10 \n",
    "#total_carb += lpSum([VitK[i]*land_vars[i]for i in land_vars]) >= 1.284501e+06\n",
    "#total_carb += lpSum([VitC[i]*land_vars[i]for i in land_vars]) >= 1.044726e+09\n",
    "total_carb += lpSum([Thiam[i]*land_vars[i]for i in land_vars]) >= 2.650924e+07\n",
    "total_carb += lpSum([Ribo[i]*land_vars[i]for i in land_vars]) >= 2.746771e+07\n",
    "total_carb += lpSum([Niac[i]*land_vars[i]for i in land_vars]) >= 3.479568e+08\n",
    "total_carb += lpSum([VitB6[i]*land_vars[i]for i in land_vars]) >= 3.231519e+07\n",
    "total_carb += lpSum([Panto[i]*land_vars[i]for i in land_vars]) >= 1.157954e+08\n",
    "#total_carb += lpSum([Biotin[i]*land_vars[i]for i in land_vars]) >= 6.681567e+05\n",
    "total_carb += lpSum([Selen[i]*land_vars[i]for i in land_vars]) >= 6.950612e+05\n",
    "total_carb += lpSum([Magnes[i]*land_vars[i]for i in land_vars]) >= 5.185360e+09\n",
    "total_carb += lpSum([Zinc[i]*land_vars[i]for i in land_vars]) >= 2.062908e+08\n",
    "#total_carb += lpSum([Iron[i]*land_vars[i]for i in land_vars]) >= 7.963802e+08\n",
    "total_carb += lpSum([VitB12[i]*land_vars[i]for i in land_vars]) >= 5.513048e+04\n",
    "#total_carb += lpSum([Folate[i]*land_vars[i]for i in land_vars]) >= 9.185334e+06\n",
    "#total_carb += lpSum([Iodine[i]*land_vars[i]for i in land_vars]) >= 3.464959e+06\n",
    "total_carb += lpSum([Prot[i]*land_vars[i]for i in land_vars]) >= 7.633401e+11\n",
    "total_carb += lpSum([Fat[i]*land_vars[i]for i in land_vars]) >=  3.551532e+11"
   ]
  },
  {
   "cell_type": "code",
   "execution_count": 9,
   "id": "direct-publisher",
   "metadata": {
    "scrolled": true
   },
   "outputs": [
    {
     "data": {
      "text/plain": [
       "-3"
      ]
     },
     "execution_count": 9,
     "metadata": {},
     "output_type": "execute_result"
    }
   ],
   "source": [
    "total_carb.solve()"
   ]
  },
  {
   "cell_type": "code",
   "execution_count": null,
   "id": "appropriate-engineering",
   "metadata": {
    "scrolled": false
   },
   "outputs": [],
   "source": []
  },
  {
   "cell_type": "code",
   "execution_count": 10,
   "id": "future-campaign",
   "metadata": {},
   "outputs": [
    {
     "name": "stdout",
     "output_type": "stream",
     "text": [
      "Land_use_Beef = 0.0\n",
      "Land_use_Chicken = 0.0\n",
      "Land_use_Pork = 0.0\n"
     ]
    }
   ],
   "source": [
    "for v in total_carb.variables():\n",
    "    print(v.name, \"=\", v.varValue)"
   ]
  },
  {
   "cell_type": "code",
   "execution_count": null,
   "id": "divided-blogger",
   "metadata": {},
   "outputs": [],
   "source": []
  }
 ],
 "metadata": {
  "kernelspec": {
   "display_name": "Python 3",
   "language": "python",
   "name": "python3"
  },
  "language_info": {
   "codemirror_mode": {
    "name": "ipython",
    "version": 3
   },
   "file_extension": ".py",
   "mimetype": "text/x-python",
   "name": "python",
   "nbconvert_exporter": "python",
   "pygments_lexer": "ipython3",
   "version": "3.8.3"
  }
 },
 "nbformat": 4,
 "nbformat_minor": 5
}
